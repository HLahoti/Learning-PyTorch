{
  "cells": [
    {
      "cell_type": "markdown",
      "metadata": {
        "id": "cutbpFxW1lHP"
      },
      "source": [
        "## Setup"
      ]
    },
    {
      "cell_type": "code",
      "execution_count": 40,
      "metadata": {
        "colab": {
          "base_uri": "https://localhost:8080/"
        },
        "id": "zsTFILTl1lHR",
        "outputId": "e430a938-4382-4685-a274-b53d1028f2cc"
      },
      "outputs": [
        {
          "name": "stdout",
          "output_type": "stream",
          "text": [
            "2.2.1+cu118\n"
          ]
        }
      ],
      "source": [
        "import numpy as np\n",
        "import pandas as pd\n",
        "import math\n",
        "import matplotlib.pyplot as plt\n",
        "\n",
        "import torch\n",
        "print(torch.__version__)"
      ]
    },
    {
      "cell_type": "markdown",
      "metadata": {
        "id": "m6rnEdzn1lHS"
      },
      "source": [
        "Course resources:\n",
        "1. https://github.com/mrdbourke/pytorch-deep-learning\n",
        "2. https://www.learnpytorch.io\n",
        "3. https://pytorch.org/get-started/locally/"
      ]
    },
    {
      "cell_type": "markdown",
      "metadata": {
        "id": "-FZKieMb1lHS"
      },
      "source": [
        "# 00. PyTorch Fundamentals"
      ]
    },
    {
      "cell_type": "markdown",
      "metadata": {
        "id": "pRjRTPnj1lHS"
      },
      "source": [
        "## Tensors"
      ]
    },
    {
      "cell_type": "markdown",
      "metadata": {
        "id": "flNyI9a71lHT"
      },
      "source": [
        "A lot of tensors can be used and manipulated like numpy arrays, so if you know those then it's not that difficult to understand."
      ]
    },
    {
      "cell_type": "markdown",
      "metadata": {
        "id": "L7bM-RM21lHT"
      },
      "source": [
        "### Creating torch.tensors"
      ]
    },
    {
      "cell_type": "code",
      "execution_count": 41,
      "metadata": {
        "colab": {
          "base_uri": "https://localhost:8080/"
        },
        "id": "O78g0MxE1lHT",
        "outputId": "ab2b79b6-18dd-40f8-c65c-9a5d4b781b12"
      },
      "outputs": [
        {
          "data": {
            "text/plain": [
              "tensor(7)"
            ]
          },
          "execution_count": 41,
          "metadata": {},
          "output_type": "execute_result"
        }
      ],
      "source": [
        "scalar = torch.tensor(7)\n",
        "scalar"
      ]
    },
    {
      "cell_type": "code",
      "execution_count": 42,
      "metadata": {
        "colab": {
          "base_uri": "https://localhost:8080/"
        },
        "id": "mMl9WgRY1lHT",
        "outputId": "3dcd2eae-42b6-411f-c093-24257f0a6e3e"
      },
      "outputs": [
        {
          "name": "stdout",
          "output_type": "stream",
          "text": [
            "0\n",
            "torch.Size([])\n",
            "7\n"
          ]
        }
      ],
      "source": [
        "print(scalar.ndim)\n",
        "print(scalar.shape)\n",
        "print(scalar.item())"
      ]
    },
    {
      "cell_type": "code",
      "execution_count": 43,
      "metadata": {
        "colab": {
          "base_uri": "https://localhost:8080/"
        },
        "id": "D_yB3rhP1lHT",
        "outputId": "4661000a-b0ed-409d-b890-7d42cb50364d"
      },
      "outputs": [
        {
          "data": {
            "text/plain": [
              "tensor([7, 7])"
            ]
          },
          "execution_count": 43,
          "metadata": {},
          "output_type": "execute_result"
        }
      ],
      "source": [
        "vector = torch.tensor([7,7])\n",
        "vector"
      ]
    },
    {
      "cell_type": "code",
      "execution_count": 44,
      "metadata": {
        "colab": {
          "base_uri": "https://localhost:8080/"
        },
        "id": "yLRZeLPB1lHU",
        "outputId": "5f4b1053-7a79-49b8-9588-d6284d0a477d"
      },
      "outputs": [
        {
          "name": "stdout",
          "output_type": "stream",
          "text": [
            "1\n",
            "torch.Size([2])\n"
          ]
        }
      ],
      "source": [
        "print(vector.ndim)\n",
        "print(vector.shape)"
      ]
    },
    {
      "cell_type": "code",
      "execution_count": 45,
      "metadata": {
        "colab": {
          "base_uri": "https://localhost:8080/"
        },
        "id": "sDroyWrv1lHU",
        "outputId": "150866ae-b470-4b32-d7bb-a043fcff9ae5"
      },
      "outputs": [
        {
          "data": {
            "text/plain": [
              "tensor(7)"
            ]
          },
          "execution_count": 45,
          "metadata": {},
          "output_type": "execute_result"
        }
      ],
      "source": [
        "vector[0]"
      ]
    },
    {
      "cell_type": "markdown",
      "metadata": {
        "id": "3uNBt95E1lHU"
      },
      "source": [
        "We write matrices and tensors with capital letters, that's just the nomenclature for some reason."
      ]
    },
    {
      "cell_type": "code",
      "execution_count": 46,
      "metadata": {
        "colab": {
          "base_uri": "https://localhost:8080/"
        },
        "id": "ZwCFZnE11lHU",
        "outputId": "d17c83f5-ddb6-4752-cee3-b0a2a0dc5b37"
      },
      "outputs": [
        {
          "data": {
            "text/plain": [
              "tensor([[1, 2],\n",
              "        [3, 4]])"
            ]
          },
          "execution_count": 46,
          "metadata": {},
          "output_type": "execute_result"
        }
      ],
      "source": [
        "MATRIX = torch.tensor([[1,2],\n",
        "                       [3,4]])\n",
        "MATRIX"
      ]
    },
    {
      "cell_type": "code",
      "execution_count": 47,
      "metadata": {
        "colab": {
          "base_uri": "https://localhost:8080/"
        },
        "id": "KTuiTcJV1lHU",
        "outputId": "c056d3a0-9605-4746-bc9e-334e1c80e6d6"
      },
      "outputs": [
        {
          "name": "stdout",
          "output_type": "stream",
          "text": [
            "2\n",
            "torch.Size([2, 2])\n"
          ]
        }
      ],
      "source": [
        "print(MATRIX.ndim)\n",
        "print(MATRIX.shape)"
      ]
    },
    {
      "cell_type": "code",
      "execution_count": 48,
      "metadata": {
        "colab": {
          "base_uri": "https://localhost:8080/"
        },
        "id": "H8VPI2Zj1lHV",
        "outputId": "3ab8c3c5-403f-4eeb-b28e-ee7f392f264e"
      },
      "outputs": [
        {
          "data": {
            "text/plain": [
              "tensor([1, 2])"
            ]
          },
          "execution_count": 48,
          "metadata": {},
          "output_type": "execute_result"
        }
      ],
      "source": [
        "MATRIX[0]"
      ]
    },
    {
      "cell_type": "code",
      "execution_count": 49,
      "metadata": {
        "colab": {
          "base_uri": "https://localhost:8080/"
        },
        "id": "C0uAHgIU1lHV",
        "outputId": "6dca7b4b-52ae-4d26-ff1c-643e8a435a93"
      },
      "outputs": [
        {
          "data": {
            "text/plain": [
              "tensor([[[1, 2, 3],\n",
              "         [3, 4, 5],\n",
              "         [6, 7, 8]]])"
            ]
          },
          "execution_count": 49,
          "metadata": {},
          "output_type": "execute_result"
        }
      ],
      "source": [
        "TENSOR = torch.tensor([[[1,2,3],\n",
        "                        [3,4,5],\n",
        "                        [6,7,8]]])\n",
        "TENSOR"
      ]
    },
    {
      "cell_type": "code",
      "execution_count": 50,
      "metadata": {
        "colab": {
          "base_uri": "https://localhost:8080/"
        },
        "id": "saKaly9Q1lHV",
        "outputId": "47885537-8c7c-4a35-84c1-96d2e81b5b1e"
      },
      "outputs": [
        {
          "name": "stdout",
          "output_type": "stream",
          "text": [
            "3\n",
            "torch.Size([1, 3, 3])\n",
            "tensor([6, 7, 8])\n"
          ]
        }
      ],
      "source": [
        "print(TENSOR.ndim)\n",
        "print(TENSOR.shape)\n",
        "print(TENSOR[0,2,:])"
      ]
    },
    {
      "cell_type": "markdown",
      "metadata": {
        "id": "0V3_8Qcf1lHV"
      },
      "source": [
        "### Random tensors\n"
      ]
    },
    {
      "cell_type": "markdown",
      "metadata": {
        "id": "yqoSqRTV1lHV"
      },
      "source": [
        "These are quite important, as they help with initializing parameters.\n",
        "https://pytorch.org/docs/stable/generated/torch.rand.html?highlight=torch+rand#torch.rand"
      ]
    },
    {
      "cell_type": "code",
      "execution_count": 51,
      "metadata": {
        "id": "PpzAr1JR1lHW"
      },
      "outputs": [
        {
          "data": {
            "text/plain": [
              "tensor([[[0.5248, 0.3534, 0.4839],\n",
              "         [0.2566, 0.1186, 0.2558],\n",
              "         [0.1720, 0.9143, 0.3714]],\n",
              "\n",
              "        [[0.9264, 0.8851, 0.2130],\n",
              "         [0.4785, 0.5945, 0.1588],\n",
              "         [0.1296, 0.9536, 0.8643]],\n",
              "\n",
              "        [[0.1536, 0.7884, 0.3535],\n",
              "         [0.2415, 0.9085, 0.7094],\n",
              "         [0.9922, 0.5499, 0.1826]]], dtype=torch.float64)"
            ]
          },
          "execution_count": 51,
          "metadata": {},
          "output_type": "execute_result"
        }
      ],
      "source": [
        "LMAO = torch.tensor(np.random.random((3,3,3)))\n",
        "LMAO"
      ]
    },
    {
      "cell_type": "code",
      "execution_count": 52,
      "metadata": {
        "colab": {
          "base_uri": "https://localhost:8080/"
        },
        "id": "iRSe1Akm1lHW",
        "outputId": "bef07bee-4bfc-4f43-d357-e4709a6225dc"
      },
      "outputs": [
        {
          "data": {
            "text/plain": [
              "tensor([[0.9121, 0.0594, 0.0303, 0.6972],\n",
              "        [0.7694, 0.7202, 0.5097, 0.3691],\n",
              "        [0.0836, 0.8479, 0.8324, 0.9666]])"
            ]
          },
          "execution_count": 52,
          "metadata": {},
          "output_type": "execute_result"
        }
      ],
      "source": [
        "LMAO2 = torch.rand(3,4)\n",
        "LMAO2"
      ]
    },
    {
      "cell_type": "code",
      "execution_count": 53,
      "metadata": {
        "colab": {
          "base_uri": "https://localhost:8080/"
        },
        "id": "nuNNduzC1lHW",
        "outputId": "3242540d-7850-4a87-e41d-b34843667ae1"
      },
      "outputs": [
        {
          "data": {
            "text/plain": [
              "(torch.Size([3, 256, 256]), 3)"
            ]
          },
          "execution_count": 53,
          "metadata": {},
          "output_type": "execute_result"
        }
      ],
      "source": [
        "RANDOM_IMAGE_TENSOR = torch.rand(size=(3,256,256))\n",
        "RANDOM_IMAGE_TENSOR.shape,RANDOM_IMAGE_TENSOR.ndim"
      ]
    },
    {
      "cell_type": "markdown",
      "metadata": {
        "id": "VhxEj6Vs1lHW"
      },
      "source": [
        "### Zero tensors and stuff"
      ]
    },
    {
      "cell_type": "code",
      "execution_count": 54,
      "metadata": {
        "id": "ldqSem731lHW"
      },
      "outputs": [],
      "source": [
        "ZEROS = torch.zeros(size=(3,256,256))\n",
        "ONES = torch.ones(size=(3,256,256))"
      ]
    },
    {
      "cell_type": "code",
      "execution_count": 55,
      "metadata": {
        "colab": {
          "base_uri": "https://localhost:8080/"
        },
        "id": "ZEqVaIsO1lHX",
        "outputId": "ffc6d129-3130-46c1-bae7-cdcb91d93848"
      },
      "outputs": [
        {
          "data": {
            "text/plain": [
              "tensor(True)"
            ]
          },
          "execution_count": 55,
          "metadata": {},
          "output_type": "execute_result"
        }
      ],
      "source": [
        "(ZEROS*RANDOM_IMAGE_TENSOR == ZEROS)._is_all_true()"
      ]
    },
    {
      "cell_type": "code",
      "execution_count": 56,
      "metadata": {
        "colab": {
          "base_uri": "https://localhost:8080/"
        },
        "id": "lkWqo-o71lHX",
        "outputId": "5040a8c6-d888-468e-a0b2-0e030db785c1"
      },
      "outputs": [
        {
          "data": {
            "text/plain": [
              "tensor(True)"
            ]
          },
          "execution_count": 56,
          "metadata": {},
          "output_type": "execute_result"
        }
      ],
      "source": [
        "(ONES*RANDOM_IMAGE_TENSOR == RANDOM_IMAGE_TENSOR)._is_all_true()"
      ]
    },
    {
      "cell_type": "markdown",
      "metadata": {
        "id": "d9GK4iB-1lHX"
      },
      "source": [
        "### Range of tensors and tensors-like"
      ]
    },
    {
      "cell_type": "code",
      "execution_count": 57,
      "metadata": {
        "colab": {
          "base_uri": "https://localhost:8080/"
        },
        "id": "cb8VzBIa1lHX",
        "outputId": "2fa0e11a-f340-4c4d-8909-3124f85b510a"
      },
      "outputs": [
        {
          "data": {
            "text/plain": [
              "tensor([1, 3, 5, 7, 9])"
            ]
          },
          "execution_count": 57,
          "metadata": {},
          "output_type": "execute_result"
        }
      ],
      "source": [
        "range = torch.arange(start=1,end=11,step=2,dtype=int,requires_grad=False)\n",
        "range"
      ]
    },
    {
      "cell_type": "code",
      "execution_count": 58,
      "metadata": {
        "colab": {
          "base_uri": "https://localhost:8080/"
        },
        "id": "g0JHcEmm1lHX",
        "outputId": "6bbfe0cd-871b-4795-b661-a156338a18db"
      },
      "outputs": [
        {
          "data": {
            "text/plain": [
              "True"
            ]
          },
          "execution_count": 58,
          "metadata": {},
          "output_type": "execute_result"
        }
      ],
      "source": [
        "ONES_LIKE_IMAGE = torch.ones_like(RANDOM_IMAGE_TENSOR)\n",
        "#zeros_like also exists\n",
        "ONES_LIKE_IMAGE.shape == RANDOM_IMAGE_TENSOR.shape"
      ]
    },
    {
      "cell_type": "markdown",
      "metadata": {
        "id": "N2IBgd4E1lHX"
      },
      "source": [
        "### Dtypes\n"
      ]
    },
    {
      "cell_type": "markdown",
      "metadata": {
        "id": "sAB_SltS1lHY"
      },
      "source": [
        "\n",
        "https://pytorch.org/docs/stable/tensors.html#data-types\n",
        "\n",
        "Use torch._dtype_"
      ]
    },
    {
      "cell_type": "code",
      "execution_count": 59,
      "metadata": {
        "colab": {
          "base_uri": "https://localhost:8080/"
        },
        "id": "ibGh1_tq1lHY",
        "outputId": "4d61b3f4-2a70-402e-ce81-82aa6242f6b8"
      },
      "outputs": [
        {
          "data": {
            "text/plain": [
              "torch.float32"
            ]
          },
          "execution_count": 59,
          "metadata": {},
          "output_type": "execute_result"
        }
      ],
      "source": [
        "f32_tensor = torch.tensor([3.0,6.0,9.0],\n",
        "                          dtype=None, #datatype\n",
        "                          device=\"cpu\", #cpu or gpu\n",
        "                          requires_grad=False) #whether or not to track the gradients with this tensor\n",
        "f32_tensor.dtype"
      ]
    },
    {
      "cell_type": "code",
      "execution_count": 60,
      "metadata": {
        "colab": {
          "base_uri": "https://localhost:8080/"
        },
        "id": "8m-JSQWs1lHY",
        "outputId": "b26ced1e-0e4f-4e1f-9ff6-bbf725fe2c60"
      },
      "outputs": [
        {
          "data": {
            "text/plain": [
              "tensor([3, 6, 9], dtype=torch.int32)"
            ]
          },
          "execution_count": 60,
          "metadata": {},
          "output_type": "execute_result"
        }
      ],
      "source": [
        "i32_tensor = torch.tensor([3.0,6.0,9.0],dtype=torch.int32)\n",
        "i32_tensor"
      ]
    },
    {
      "cell_type": "code",
      "execution_count": 61,
      "metadata": {
        "colab": {
          "base_uri": "https://localhost:8080/"
        },
        "id": "S9-1IHW21lHY",
        "outputId": "975db3ab-3c7e-4877-9ef8-12b28e7d4b8f"
      },
      "outputs": [
        {
          "data": {
            "text/plain": [
              "tensor([3, 6, 9], dtype=torch.int16)"
            ]
          },
          "execution_count": 61,
          "metadata": {},
          "output_type": "execute_result"
        }
      ],
      "source": [
        "i16_tensor = f32_tensor.type(torch.int16)\n",
        "i16_tensor"
      ]
    },
    {
      "cell_type": "code",
      "execution_count": 62,
      "metadata": {
        "colab": {
          "base_uri": "https://localhost:8080/"
        },
        "id": "iA0o0_Xt1lHY",
        "outputId": "4d146a12-af35-42c2-bcea-e80c4c0c9596"
      },
      "outputs": [
        {
          "data": {
            "text/plain": [
              "(tensor([ 9, 36, 81], dtype=torch.int32), torch.float32)"
            ]
          },
          "execution_count": 62,
          "metadata": {},
          "output_type": "execute_result"
        }
      ],
      "source": [
        "i16_tensor*i32_tensor,(i32_tensor*f32_tensor).dtype"
      ]
    },
    {
      "cell_type": "markdown",
      "metadata": {
        "id": "VN7gGPNc1lHY"
      },
      "source": [
        "### Operations"
      ]
    },
    {
      "cell_type": "markdown",
      "metadata": {
        "id": "hi9b7Wxy1lHY"
      },
      "source": [
        "1. Addition\n",
        "2. Subtraction\n",
        "3. Multiplication (element wise)\n",
        "4. Division (element wise)\n",
        "5. Matrix Multiplication (dot)"
      ]
    },
    {
      "cell_type": "markdown",
      "metadata": {
        "id": "UxIIMHDB1lHZ"
      },
      "source": [
        "Most of these operations work exactly like they do with numpy arrays"
      ]
    },
    {
      "cell_type": "code",
      "execution_count": 63,
      "metadata": {
        "colab": {
          "base_uri": "https://localhost:8080/"
        },
        "id": "qmhFMfLJ1lHZ",
        "outputId": "44eb41cf-c6a7-413e-ce7b-fcf730e4e869"
      },
      "outputs": [
        {
          "data": {
            "text/plain": [
              "tensor([[0.5488, 0.4018, 0.6715],\n",
              "        [0.1417, 0.4979, 0.9651],\n",
              "        [0.4052, 0.8402, 0.1938]])"
            ]
          },
          "execution_count": 63,
          "metadata": {},
          "output_type": "execute_result"
        }
      ],
      "source": [
        "SOME_TENSOR = torch.rand(size=(3,3))\n",
        "SOME_TENSOR"
      ]
    },
    {
      "cell_type": "code",
      "execution_count": 64,
      "metadata": {
        "colab": {
          "base_uri": "https://localhost:8080/"
        },
        "id": "3Cf7y9Ze1lHZ",
        "outputId": "bdf39eff-f7ef-4034-8623-66bf2ff6e465"
      },
      "outputs": [
        {
          "data": {
            "text/plain": [
              "tensor([[0.0391, 0.0285, 0.0480],\n",
              "        [0.0100, 0.0354, 0.0695],\n",
              "        [0.0287, 0.0603, 0.0136]])"
            ]
          },
          "execution_count": 64,
          "metadata": {},
          "output_type": "execute_result"
        }
      ],
      "source": [
        "((SOME_TENSOR + 100)/100)**7 - 1"
      ]
    },
    {
      "cell_type": "code",
      "execution_count": 65,
      "metadata": {
        "colab": {
          "base_uri": "https://localhost:8080/"
        },
        "id": "_p5av8zW1lHa",
        "outputId": "48a8023c-86f4-41fa-ec20-c0786240f590"
      },
      "outputs": [
        {
          "data": {
            "text/plain": [
              "tensor([[1.0055, 1.0040, 1.0067],\n",
              "        [1.0014, 1.0050, 1.0097],\n",
              "        [1.0041, 1.0084, 1.0019]])"
            ]
          },
          "execution_count": 65,
          "metadata": {},
          "output_type": "execute_result"
        }
      ],
      "source": [
        "torch.div(torch.add(SOME_TENSOR,100),100)\n",
        "#* Use the normal operators generally"
      ]
    },
    {
      "cell_type": "code",
      "execution_count": 66,
      "metadata": {
        "colab": {
          "base_uri": "https://localhost:8080/"
        },
        "id": "vIzjSjR-1lHa",
        "outputId": "bc6e01c0-3549-4138-f8c6-5a4628085de2"
      },
      "outputs": [
        {
          "data": {
            "text/plain": [
              "tensor([[0.6632, 0.9761, 0.8028]])"
            ]
          },
          "execution_count": 66,
          "metadata": {},
          "output_type": "execute_result"
        }
      ],
      "source": [
        "ANOTHER_TENSOR = torch.rand(size=(1,3))\n",
        "ANOTHER_TENSOR"
      ]
    },
    {
      "cell_type": "markdown",
      "metadata": {
        "id": "-P0nl7T91lHa"
      },
      "source": [
        "#### Matrix multiplication\n",
        "\n",
        "http://matrixmultiplication.xyz"
      ]
    },
    {
      "cell_type": "code",
      "execution_count": 67,
      "metadata": {
        "colab": {
          "base_uri": "https://localhost:8080/"
        },
        "id": "LlwOESlb1lHa",
        "outputId": "1b3572a2-65ed-49b7-f0bd-289d7aad1f72"
      },
      "outputs": [
        {
          "data": {
            "text/plain": [
              "(tensor([[0.3012, 0.1615, 0.4509],\n",
              "         [0.0201, 0.2479, 0.9313],\n",
              "         [0.1642, 0.7060, 0.0376]]),\n",
              " tensor([[0.6302, 0.9848, 0.8864],\n",
              "         [0.5393, 1.1157, 0.7627],\n",
              "         [0.4199, 0.7440, 1.1205]]))"
            ]
          },
          "execution_count": 67,
          "metadata": {},
          "output_type": "execute_result"
        }
      ],
      "source": [
        "SOME_TENSOR*SOME_TENSOR,SOME_TENSOR@SOME_TENSOR"
      ]
    },
    {
      "cell_type": "code",
      "execution_count": 68,
      "metadata": {
        "colab": {
          "base_uri": "https://localhost:8080/"
        },
        "id": "Q9QLHnt51lHa",
        "outputId": "c5e40241-2e19-477b-833d-f48400d23ec8"
      },
      "outputs": [
        {
          "data": {
            "text/plain": [
              "tensor([[0.6302, 0.9848, 0.8864],\n",
              "        [0.5393, 1.1157, 0.7627],\n",
              "        [0.4199, 0.7440, 1.1205]])"
            ]
          },
          "execution_count": 68,
          "metadata": {},
          "output_type": "execute_result"
        }
      ],
      "source": [
        "torch.matmul(SOME_TENSOR,SOME_TENSOR)\n",
        "#* more efficient"
      ]
    },
    {
      "cell_type": "markdown",
      "metadata": {
        "id": "mgS-id-Q1lHa"
      },
      "source": [
        "---"
      ]
    },
    {
      "cell_type": "markdown",
      "metadata": {
        "id": "FP2PvXjZ1lHb"
      },
      "source": [
        "### Shape errors"
      ]
    },
    {
      "cell_type": "code",
      "execution_count": 69,
      "metadata": {
        "colab": {
          "base_uri": "https://localhost:8080/"
        },
        "id": "Z8H3KBlF1lHb",
        "outputId": "ce5531e6-7ef7-4025-c73a-33408cfe7fec"
      },
      "outputs": [
        {
          "data": {
            "text/plain": [
              "tensor([[ 27,  30,  33],\n",
              "        [ 61,  68,  75],\n",
              "        [ 95, 106, 117]])"
            ]
          },
          "execution_count": 69,
          "metadata": {},
          "output_type": "execute_result"
        }
      ],
      "source": [
        "\n",
        "TENSOR_A = torch.tensor([[1,2],\n",
        "                         [3,4],\n",
        "                         [5,6]])\n",
        "TENSOR_B = torch.tensor([[7,10],\n",
        "                         [8,11],\n",
        "                         [9,12]])\n",
        "#! Gives error for shape:\n",
        "# torch.mm(tensor_A,tensor_B) #torch.mm can also be used as matmul\n",
        "torch.matmul(TENSOR_A,TENSOR_B.T)\n"
      ]
    },
    {
      "cell_type": "markdown",
      "metadata": {
        "id": "4AvgjaJ_1lHb"
      },
      "source": [
        "### Aggregation"
      ]
    },
    {
      "cell_type": "markdown",
      "metadata": {
        "id": "f0TgKc_q1lHb"
      },
      "source": [
        "Again, works almost exactly like numpy arrays"
      ]
    },
    {
      "cell_type": "code",
      "execution_count": 70,
      "metadata": {
        "id": "jdnZdtfp1lHc"
      },
      "outputs": [],
      "source": [
        "TENSOR_A = torch.rand(\n",
        "    size=(3,3,3)\n",
        ")"
      ]
    },
    {
      "cell_type": "code",
      "execution_count": 71,
      "metadata": {
        "colab": {
          "base_uri": "https://localhost:8080/"
        },
        "id": "d1LcG2PI1lHc",
        "outputId": "f4b55635-2968-4212-f407-cade16e386d2"
      },
      "outputs": [
        {
          "name": "stdout",
          "output_type": "stream",
          "text": [
            "Avg: 0.4974519610404968\n",
            "Median: 0.4358171820640564\n",
            "Max: 0.9322761297225952\n",
            "Min: 0.021444320678710938\n",
            "Sum: 13.43120288848877\n",
            "\n"
          ]
        }
      ],
      "source": [
        "print(\n",
        "    f\"Avg: {TENSOR_A.mean()}\\n\",\n",
        "    f\"Median: {TENSOR_A.median()}\\n\",\n",
        "    f\"Max: {TENSOR_A.max()}\\n\",\n",
        "    f\"Min: {TENSOR_A.min()}\\n\",\n",
        "    f\"Sum: {TENSOR_A.sum()}\\n\",\n",
        "    sep=\"\"\n",
        ")"
      ]
    },
    {
      "cell_type": "code",
      "execution_count": 72,
      "metadata": {
        "colab": {
          "base_uri": "https://localhost:8080/"
        },
        "id": "IvL7reIm1lHc",
        "outputId": "9d355e71-eaf8-4fd4-b9f5-0e6b15090ab1"
      },
      "outputs": [
        {
          "name": "stdout",
          "output_type": "stream",
          "text": [
            "torch.Size([])\n",
            "torch.Size([4, 5])\n",
            "torch.Size([3, 5])\n",
            "torch.Size([3, 4])\n"
          ]
        }
      ],
      "source": [
        "TENSOR_B = torch.rand(size=(3,4,5))\n",
        "\n",
        "print(TENSOR_B.sum(dim=None).shape) #same as .sum()\n",
        "print(TENSOR_B.sum(dim=0).shape)\n",
        "print(TENSOR_B.sum(dim=1).shape)\n",
        "print(TENSOR_B.sum(dim=2).shape)"
      ]
    },
    {
      "cell_type": "code",
      "execution_count": 73,
      "metadata": {
        "colab": {
          "base_uri": "https://localhost:8080/"
        },
        "id": "WTsp3ysa1lHc",
        "outputId": "3bd78e95-d098-4f87-ea62-6cf21200d1fa"
      },
      "outputs": [
        {
          "name": "stdout",
          "output_type": "stream",
          "text": [
            "tensor(13)\n",
            "tensor([[4, 2, 3, 4],\n",
            "        [0, 2, 1, 2],\n",
            "        [1, 1, 0, 0]])\n"
          ]
        }
      ],
      "source": [
        "print(TENSOR_B.argmax(dim=None))\n",
        "print(TENSOR_B.argmax(dim=2))"
      ]
    },
    {
      "cell_type": "markdown",
      "metadata": {
        "id": "XjbGm1__1lHc"
      },
      "source": [
        "### Reshaping, stacking\n"
      ]
    },
    {
      "cell_type": "markdown",
      "metadata": {
        "id": "32LPFSVw1lHd"
      },
      "source": [
        "Exactly like numpy, with a new feature"
      ]
    },
    {
      "cell_type": "code",
      "execution_count": 74,
      "metadata": {
        "id": "opTM7ggE1lHd"
      },
      "outputs": [],
      "source": [
        "TENSOR_A = torch.randint(1,10,(2,3,4))\n",
        "TENSOR_B = torch.randint(1,10,(2,3,4))"
      ]
    },
    {
      "cell_type": "markdown",
      "metadata": {
        "id": "Czyq8bGc1lHd"
      },
      "source": [
        "#### Reshaping"
      ]
    },
    {
      "cell_type": "code",
      "execution_count": 75,
      "metadata": {
        "colab": {
          "base_uri": "https://localhost:8080/"
        },
        "id": "EsPLW29r1lHd",
        "outputId": "fc5f5183-6725-4dd8-924d-080f2811f3c6"
      },
      "outputs": [
        {
          "name": "stdout",
          "output_type": "stream",
          "text": [
            "tensor([[[7, 5, 1, 5],\n",
            "         [3, 4, 3, 9],\n",
            "         [3, 7, 6, 9]],\n",
            "\n",
            "        [[3, 1, 5, 3],\n",
            "         [9, 7, 1, 1],\n",
            "         [3, 2, 6, 2]]])\n",
            "tensor([[7, 5, 1, 5, 3, 4, 3, 9],\n",
            "        [3, 7, 6, 9, 3, 1, 5, 3],\n",
            "        [9, 7, 1, 1, 3, 2, 6, 2]])\n",
            "tensor([7, 5, 1, 5, 3, 4, 3, 9, 3, 7, 6, 9, 3, 1, 5, 3, 9, 7, 1, 1, 3, 2, 6, 2])\n"
          ]
        }
      ],
      "source": [
        "print(TENSOR_A)\n",
        "print(TENSOR_A.reshape((3,8)))\n",
        "print(TENSOR_A.flatten())"
      ]
    },
    {
      "cell_type": "markdown",
      "metadata": {
        "id": "faq1s6Ol1lHd"
      },
      "source": [
        "#### View"
      ]
    },
    {
      "cell_type": "markdown",
      "metadata": {
        "id": "rBJWzsLh1lHd"
      },
      "source": [
        "A view in PyTorch is like a view in a mySQL database, the data is synced with the original tensor, but the shape is changed to better fir the use case."
      ]
    },
    {
      "cell_type": "code",
      "execution_count": 76,
      "metadata": {
        "colab": {
          "base_uri": "https://localhost:8080/"
        },
        "id": "9NJ3QJoR1lHd",
        "outputId": "ce34fd30-28ae-4d54-c616-772d8cc939ff"
      },
      "outputs": [
        {
          "data": {
            "text/plain": [
              "tensor([[7, 5, 1],\n",
              "        [5, 3, 4],\n",
              "        [3, 9, 3],\n",
              "        [7, 6, 9],\n",
              "        [3, 1, 5],\n",
              "        [3, 9, 7],\n",
              "        [1, 1, 3],\n",
              "        [2, 6, 2]])"
            ]
          },
          "execution_count": 76,
          "metadata": {},
          "output_type": "execute_result"
        }
      ],
      "source": [
        "view_A = TENSOR_A.view(8,3)\n",
        "view_A"
      ]
    },
    {
      "cell_type": "code",
      "execution_count": 77,
      "metadata": {
        "colab": {
          "base_uri": "https://localhost:8080/"
        },
        "id": "iliNJ1_k1lHe",
        "outputId": "c5f12e51-bd4d-4653-de34-428de5668b89"
      },
      "outputs": [
        {
          "name": "stdout",
          "output_type": "stream",
          "text": [
            "tensor(7)\n",
            "tensor(14)\n",
            "tensor(14)\n",
            "tensor(7)\n"
          ]
        }
      ],
      "source": [
        "print(TENSOR_A[0,0,0])\n",
        "TENSOR_A[0,0,0] += 7\n",
        "print(TENSOR_A[0,0,0])\n",
        "print(view_A[0,0])\n",
        "view_A[0,0] -= 7\n",
        "print(TENSOR_A[0,0,0])"
      ]
    },
    {
      "cell_type": "markdown",
      "metadata": {
        "id": "uFuFVcX91lHe"
      },
      "source": [
        "#### Stack"
      ]
    },
    {
      "cell_type": "code",
      "execution_count": 78,
      "metadata": {
        "colab": {
          "base_uri": "https://localhost:8080/"
        },
        "id": "DjWfOSb01lHe",
        "outputId": "2bc85fce-ee0e-4c8e-e95e-98f42cb247ec"
      },
      "outputs": [
        {
          "name": "stdout",
          "output_type": "stream",
          "text": [
            "torch.Size([2, 2, 3, 4])\n",
            "torch.Size([2, 2, 3, 4])\n",
            "torch.Size([2, 2, 3, 4])\n",
            "torch.Size([2, 3, 2, 4])\n",
            "torch.Size([2, 3, 4, 2])\n"
          ]
        }
      ],
      "source": [
        "print(torch.stack((TENSOR_A,TENSOR_B)).shape)\n",
        "print(torch.stack((TENSOR_A,TENSOR_B),dim=0).shape)\n",
        "print(torch.stack((TENSOR_A,TENSOR_B),dim=1).shape)\n",
        "print(torch.stack((TENSOR_A,TENSOR_B),dim=2).shape)\n",
        "print(torch.stack((TENSOR_A,TENSOR_B),dim=3).shape)"
      ]
    },
    {
      "cell_type": "markdown",
      "metadata": {
        "id": "OI5Ql_O41lHe"
      },
      "source": [
        "### Squeezing and unsqueezing"
      ]
    },
    {
      "cell_type": "code",
      "execution_count": 79,
      "metadata": {
        "id": "Jk9gU6Uo1lHe"
      },
      "outputs": [],
      "source": [
        "TENSOR_A = torch.randint(1,10,(2,1,5,1))"
      ]
    },
    {
      "cell_type": "code",
      "execution_count": 80,
      "metadata": {
        "colab": {
          "base_uri": "https://localhost:8080/"
        },
        "id": "-NB-jh961lHe",
        "outputId": "4616a9b8-6305-41e6-fe24-1e76f6a92e34"
      },
      "outputs": [
        {
          "name": "stdout",
          "output_type": "stream",
          "text": [
            "torch.Size([2, 1, 5, 1])\n",
            "torch.Size([2, 5, 1])\n",
            "torch.Size([2, 1, 1, 5, 1])\n"
          ]
        }
      ],
      "source": [
        "print(TENSOR_A.shape)\n",
        "print(torch.squeeze(TENSOR_A,dim=(0,1,2)).shape)\n",
        "print(torch.unsqueeze(TENSOR_A,1).shape)"
      ]
    },
    {
      "cell_type": "code",
      "execution_count": 81,
      "metadata": {
        "colab": {
          "base_uri": "https://localhost:8080/"
        },
        "id": "od5dCDP_1lHf",
        "outputId": "572733b7-9097-485e-9845-b5398b89777d"
      },
      "outputs": [
        {
          "data": {
            "text/plain": [
              "True"
            ]
          },
          "execution_count": 81,
          "metadata": {},
          "output_type": "execute_result"
        }
      ],
      "source": [
        "(torch.squeeze(TENSOR_A,dim=(0,1,2)).unsqueeze(1)==TENSOR_A)._is_all_true().item()"
      ]
    },
    {
      "cell_type": "markdown",
      "metadata": {
        "id": "WFRDZO2a1lHf"
      },
      "source": [
        "## Stuff"
      ]
    },
    {
      "cell_type": "markdown",
      "metadata": {
        "id": "CiTUXorE1lHf"
      },
      "source": [
        "### Permute"
      ]
    },
    {
      "cell_type": "markdown",
      "metadata": {
        "id": "RfdW_qaj1lHf"
      },
      "source": [
        "Commonly used to manipulate image data.<br>\n",
        "Permutes share the same space in the memory, this means that it is like a view in that it changes with the tensor itself."
      ]
    },
    {
      "cell_type": "code",
      "execution_count": 82,
      "metadata": {
        "id": "EA8IY4yp1lHf"
      },
      "outputs": [],
      "source": [
        "TENSOR_A = torch.randint(1,10,(2,3,4))"
      ]
    },
    {
      "cell_type": "code",
      "execution_count": 83,
      "metadata": {
        "colab": {
          "base_uri": "https://localhost:8080/"
        },
        "id": "bSDDnYa71lHf",
        "outputId": "ac4f12da-ec92-4ebb-a1d8-f7825438d1cb"
      },
      "outputs": [
        {
          "name": "stdout",
          "output_type": "stream",
          "text": [
            "torch.Size([2, 3, 4])\n",
            "torch.Size([3, 2, 4])\n"
          ]
        }
      ],
      "source": [
        "print(TENSOR_A.shape)\n",
        "print(TENSOR_A.permute((1,0,2)).shape)"
      ]
    },
    {
      "cell_type": "code",
      "execution_count": 84,
      "metadata": {
        "colab": {
          "base_uri": "https://localhost:8080/"
        },
        "id": "tU0fxRPK1lHf",
        "outputId": "8849ad31-9f44-4f02-fdcb-36c4b51fcfdb"
      },
      "outputs": [
        {
          "name": "stdout",
          "output_type": "stream",
          "text": [
            "tensor([[[9, 8, 6, 4],\n",
            "         [4, 8, 5, 9],\n",
            "         [9, 3, 2, 5]],\n",
            "\n",
            "        [[5, 4, 5, 7],\n",
            "         [2, 9, 8, 9],\n",
            "         [6, 9, 1, 5]]])\n",
            "tensor([[[9, 8, 6, 4],\n",
            "         [5, 4, 5, 7]],\n",
            "\n",
            "        [[4, 8, 5, 9],\n",
            "         [2, 9, 8, 9]],\n",
            "\n",
            "        [[9, 3, 2, 5],\n",
            "         [6, 9, 1, 5]]])\n"
          ]
        }
      ],
      "source": [
        "print(TENSOR_A)\n",
        "print(TENSOR_A.permute((1,0,2)))"
      ]
    },
    {
      "cell_type": "code",
      "execution_count": 85,
      "metadata": {
        "colab": {
          "base_uri": "https://localhost:8080/"
        },
        "id": "pIRyeX6p1lHg",
        "outputId": "f7f1f0e9-0d70-4306-98cf-2fe9b877e4cb"
      },
      "outputs": [
        {
          "name": "stdout",
          "output_type": "stream",
          "text": [
            "torch.Size([224, 224, 3])\n",
            "torch.Size([3, 224, 224])\n",
            "True\n"
          ]
        }
      ],
      "source": [
        "RANDOM_IMAGE_TENSOR = torch.randint(0,256,size=(224,224,3))\n",
        "PERMUTE_IMAGE_TENSOR = RANDOM_IMAGE_TENSOR.permute((2,0,1))\n",
        "print(RANDOM_IMAGE_TENSOR.shape)\n",
        "print(PERMUTE_IMAGE_TENSOR.shape)\n",
        "#* this helps us bring the colour channels to the \"front\"\n",
        "print((RANDOM_IMAGE_TENSOR[:,:,0] == PERMUTE_IMAGE_TENSOR[0])._is_all_true().item())"
      ]
    },
    {
      "cell_type": "code",
      "execution_count": 86,
      "metadata": {
        "colab": {
          "base_uri": "https://localhost:8080/"
        },
        "id": "8N2RmY-d1lHg",
        "outputId": "5c6b1764-9143-4780-d628-120d8619893a"
      },
      "outputs": [
        {
          "data": {
            "text/plain": [
              "tensor(500)"
            ]
          },
          "execution_count": 86,
          "metadata": {},
          "output_type": "execute_result"
        }
      ],
      "source": [
        "RANDOM_IMAGE_TENSOR[50,74,0] = 500\n",
        "PERMUTE_IMAGE_TENSOR[0,50,74]"
      ]
    },
    {
      "cell_type": "markdown",
      "metadata": {
        "id": "4Hr9LbL01lHg"
      },
      "source": [
        "### PyTorch $\\leftrightarrow$ Numpy"
      ]
    },
    {
      "cell_type": "code",
      "execution_count": 87,
      "metadata": {
        "colab": {
          "base_uri": "https://localhost:8080/"
        },
        "id": "zE3WAuBK1lHg",
        "outputId": "31d18441-10b7-4549-85f7-28a085edcedb"
      },
      "outputs": [
        {
          "name": "stdout",
          "output_type": "stream",
          "text": [
            "[1 2 3 4 5 6 7 8 9]\n",
            "tensor([1, 2, 3, 4, 5, 6, 7, 8, 9], dtype=torch.int32)\n",
            "[90  2  3  4  5  6  7  8  9]\n",
            "tensor([90,  2,  3,  4,  5,  6,  7,  8,  9], dtype=torch.int32)\n"
          ]
        }
      ],
      "source": [
        "array = np.arange(1,10)\n",
        "tensor_C = torch.from_numpy(array)\n",
        "print(array)\n",
        "print(tensor_C)\n",
        "tensor_C[0] = 90\n",
        "array = tensor_C.numpy()\n",
        "print(array)\n",
        "print(tensor_C)"
      ]
    },
    {
      "cell_type": "markdown",
      "metadata": {
        "id": "5vvCie1y1lHg"
      },
      "source": [
        "### Reproducability"
      ]
    },
    {
      "cell_type": "code",
      "execution_count": 88,
      "metadata": {
        "colab": {
          "base_uri": "https://localhost:8080/"
        },
        "id": "n5gMpGcj1lHh",
        "outputId": "a32a1b15-5c74-48a0-8dd7-d1c20873b51c"
      },
      "outputs": [
        {
          "name": "stdout",
          "output_type": "stream",
          "text": [
            "tensor([[8, 7, 5],\n",
            "        [3, 4, 2]])\n",
            "tensor([[8, 7, 5],\n",
            "        [3, 4, 2]])\n"
          ]
        }
      ],
      "source": [
        "state_1 = torch.random.get_rng_state()\n",
        "print(torch.randint(0,10,(2,3)))\n",
        "torch.random.set_rng_state(state_1)\n",
        "print(torch.randint(0,10,(2,3)))"
      ]
    },
    {
      "cell_type": "code",
      "execution_count": 89,
      "metadata": {
        "colab": {
          "base_uri": "https://localhost:8080/"
        },
        "id": "4ETaIM7d1lHh",
        "outputId": "8f858ade-aea7-4589-8934-6e989797bdcb"
      },
      "outputs": [
        {
          "name": "stdout",
          "output_type": "stream",
          "text": [
            "tensor(True)\n"
          ]
        }
      ],
      "source": [
        "RANDOM_SEED = 42\n",
        "torch.manual_seed(RANDOM_SEED)\n",
        "\n",
        "tensor_C = torch.randint(0,10,(2,3))\n",
        "\n",
        "torch.manual_seed(RANDOM_SEED)\n",
        "tensor_D = torch.randint(0,10,(2,3))\n",
        "\n",
        "print((tensor_C == tensor_D)._is_all_true())"
      ]
    },
    {
      "cell_type": "markdown",
      "metadata": {
        "id": "TAq7ngOo1lHh"
      },
      "source": [
        "## GPU"
      ]
    },
    {
      "cell_type": "markdown",
      "metadata": {
        "id": "WSIwOva41lHh"
      },
      "source": [
        "1. Get GPU - `done`\n",
        "2. Get CUDA - `will do later`\n",
        "https://www.youtube.com/watch?v=19LQRx78QVU"
      ]
    },
    {
      "cell_type": "code",
      "execution_count": 90,
      "metadata": {
        "colab": {
          "base_uri": "https://localhost:8080/"
        },
        "id": "EWqjzQl-1lHh",
        "outputId": "9400bb1c-c0d5-450d-9373-1484a57ccf41",
        "tags": []
      },
      "outputs": [
        {
          "data": {
            "text/plain": [
              "True"
            ]
          },
          "execution_count": 90,
          "metadata": {},
          "output_type": "execute_result"
        }
      ],
      "source": [
        "import torch\n",
        "import torchvision\n",
        "torch.cuda.is_available()"
      ]
    },
    {
      "cell_type": "code",
      "execution_count": 91,
      "metadata": {
        "colab": {
          "base_uri": "https://localhost:8080/"
        },
        "id": "jLDlAwhc1lHh",
        "outputId": "080911bf-5c31-4418-bd03-735888a983b4"
      },
      "outputs": [
        {
          "name": "stdout",
          "output_type": "stream",
          "text": [
            "Mon Apr  1 23:15:23 2024       \n",
            "+---------------------------------------------------------------------------------------+\n",
            "| NVIDIA-SMI 546.26                 Driver Version: 546.26       CUDA Version: 12.3     |\n",
            "|-----------------------------------------+----------------------+----------------------+\n",
            "| GPU  Name                     TCC/WDDM  | Bus-Id        Disp.A | Volatile Uncorr. ECC |\n",
            "| Fan  Temp   Perf          Pwr:Usage/Cap |         Memory-Usage | GPU-Util  Compute M. |\n",
            "|                                         |                      |               MIG M. |\n",
            "|=========================================+======================+======================|\n",
            "|   0  NVIDIA GeForce GTX 1650 Ti   WDDM  | 00000000:01:00.0 Off |                  N/A |\n",
            "| N/A   44C    P8               3W /  30W |    128MiB /  4096MiB |      4%      Default |\n",
            "|                                         |                      |                  N/A |\n",
            "+-----------------------------------------+----------------------+----------------------+\n",
            "                                                                                         \n",
            "+---------------------------------------------------------------------------------------+\n",
            "| Processes:                                                                            |\n",
            "|  GPU   GI   CI        PID   Type   Process name                            GPU Memory |\n",
            "|        ID   ID                                                             Usage      |\n",
            "|=======================================================================================|\n",
            "|    0   N/A  N/A      2264      C   ...rograms\\Python\\Python310\\python.exe    N/A      |\n",
            "|    0   N/A  N/A      6696    C+G   ..._v10z8vjag6ke6\\OMENAudioControl.exe    N/A      |\n",
            "|    0   N/A  N/A      7116    C+G   ...Google\\NearbyShare\\nearby_share.exe    N/A      |\n",
            "|    0   N/A  N/A      9756    C+G   ..._8wekyb3d8bbwe\\Microsoft.Photos.exe    N/A      |\n",
            "|    0   N/A  N/A     10748    C+G   ...nt.CBS_cw5n1h2txyewy\\SearchHost.exe    N/A      |\n",
            "|    0   N/A  N/A     10820    C+G   ...2txyewy\\StartMenuExperienceHost.exe    N/A      |\n",
            "|    0   N/A  N/A     10960    C+G   ...CBS_cw5n1h2txyewy\\TextInputHost.exe    N/A      |\n",
            "|    0   N/A  N/A     12324    C+G   ...tudio-ui\\LightStudio-background.exe    N/A      |\n",
            "|    0   N/A  N/A     12916    C+G   ...Programs\\Microsoft VS Code\\Code.exe    N/A      |\n",
            "|    0   N/A  N/A     14228    C+G   ...64__v10z8vjag6ke6\\HP.JumpStarts.exe    N/A      |\n",
            "|    0   N/A  N/A     14984    C+G   ...t.LockApp_cw5n1h2txyewy\\LockApp.exe    N/A      |\n",
            "|    0   N/A  N/A     18512    C+G   ...wekyb3d8bbwe\\XboxGameBarWidgets.exe    N/A      |\n",
            "|    0   N/A  N/A     19712    C+G   ...ekyb3d8bbwe\\PhoneExperienceHost.exe    N/A      |\n",
            "|    0   N/A  N/A     20332    C+G   ...ta\\Local\\Programs\\Notion\\Notion.exe    N/A      |\n",
            "|    0   N/A  N/A     20488    C+G   ...Desktop\\app-2.5.6\\GitHubDesktop.exe    N/A      |\n",
            "|    0   N/A  N/A     24504      C   ...rograms\\Python\\Python310\\python.exe    N/A      |\n",
            "|    0   N/A  N/A     26400    C+G   ...tility\\HPSystemEventUtilityHost.exe    N/A      |\n",
            "|    0   N/A  N/A     27328    C+G   ...42.0_x64__zpdnekdrzrea0\\Spotify.exe    N/A      |\n",
            "+---------------------------------------------------------------------------------------+\n"
          ]
        }
      ],
      "source": [
        "!nvidia-smi"
      ]
    },
    {
      "cell_type": "markdown",
      "metadata": {
        "id": "izm4aSHq3ayM"
      },
      "source": [
        "### Devise agnostic code"
      ]
    },
    {
      "cell_type": "markdown",
      "metadata": {
        "id": "oFDLVEGL4ZkX"
      },
      "source": [
        "https://pytorch.org/docs/stable/notes/cuda.html#device-agnostic-code"
      ]
    },
    {
      "cell_type": "code",
      "execution_count": 92,
      "metadata": {
        "colab": {
          "base_uri": "https://localhost:8080/",
          "height": 36
        },
        "id": "CcJhLfog3GBw",
        "outputId": "9d1410ce-ec80-4813-d7c2-52da8d329cbd"
      },
      "outputs": [
        {
          "data": {
            "text/plain": [
              "'cuda'"
            ]
          },
          "execution_count": 92,
          "metadata": {},
          "output_type": "execute_result"
        }
      ],
      "source": [
        "device = \"cuda\" if torch.cuda.is_available() else \"cpu\"\n",
        "device"
      ]
    },
    {
      "cell_type": "markdown",
      "metadata": {
        "id": "kcyfu-lz5Fbl"
      },
      "source": [
        "### Putting stuff on GPU"
      ]
    },
    {
      "cell_type": "code",
      "execution_count": 93,
      "metadata": {
        "colab": {
          "base_uri": "https://localhost:8080/"
        },
        "id": "2nETEkzs32XZ",
        "outputId": "29eefb0a-22d1-4a1d-f23b-beb01c39e1e2"
      },
      "outputs": [
        {
          "data": {
            "text/plain": [
              "(tensor([1, 2, 3]), device(type='cpu'))"
            ]
          },
          "execution_count": 93,
          "metadata": {},
          "output_type": "execute_result"
        }
      ],
      "source": [
        "tensor_C = torch.tensor([1,2,3])\n",
        "tensor_C,tensor_C.device"
      ]
    },
    {
      "cell_type": "code",
      "execution_count": 94,
      "metadata": {
        "colab": {
          "base_uri": "https://localhost:8080/"
        },
        "id": "u6ca688V50x_",
        "outputId": "f37e6261-c11f-4b16-de88-063b6585d311"
      },
      "outputs": [
        {
          "data": {
            "text/plain": [
              "(tensor([1, 2, 3], device='cuda:0'), device(type='cuda', index=0))"
            ]
          },
          "execution_count": 94,
          "metadata": {},
          "output_type": "execute_result"
        }
      ],
      "source": [
        "tensor_C_GPU = tensor_C.to(device)\n",
        "tensor_C_GPU,tensor_C_GPU.device"
      ]
    },
    {
      "cell_type": "markdown",
      "metadata": {
        "id": "CjX3ZG9o6SBH"
      },
      "source": [
        "**`Numpy only works on a CPU`**"
      ]
    },
    {
      "cell_type": "code",
      "execution_count": 95,
      "metadata": {
        "colab": {
          "base_uri": "https://localhost:8080/"
        },
        "id": "Z9PoZtzb6Hz7",
        "outputId": "00fdeecf-2fa2-44f3-8a9b-cb5adc232f52"
      },
      "outputs": [
        {
          "data": {
            "text/plain": [
              "array([1, 2, 3], dtype=int64)"
            ]
          },
          "execution_count": 95,
          "metadata": {},
          "output_type": "execute_result"
        }
      ],
      "source": [
        "tensor_C_CPU = tensor_C_GPU.cpu()\n",
        "tensor_C_CPU.numpy()"
      ]
    },
    {
      "cell_type": "code",
      "execution_count": null,
      "metadata": {
        "id": "n0X0NsU66kQ_"
      },
      "outputs": [],
      "source": []
    }
  ],
  "metadata": {
    "accelerator": "GPU",
    "colab": {
      "gpuType": "T4",
      "provenance": []
    },
    "kernelspec": {
      "display_name": "Python 3",
      "name": "python3"
    },
    "language_info": {
      "codemirror_mode": {
        "name": "ipython",
        "version": 3
      },
      "file_extension": ".py",
      "mimetype": "text/x-python",
      "name": "python",
      "nbconvert_exporter": "python",
      "pygments_lexer": "ipython3",
      "version": "3.10.11"
    }
  },
  "nbformat": 4,
  "nbformat_minor": 0
}
